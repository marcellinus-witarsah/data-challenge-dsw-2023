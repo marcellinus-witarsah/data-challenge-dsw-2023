{
 "cells": [
  {
   "cell_type": "code",
   "execution_count": 26,
   "id": "69126556",
   "metadata": {},
   "outputs": [
    {
     "ename": "ModuleNotFoundError",
     "evalue": "No module named 'yellowbrick'",
     "output_type": "error",
     "traceback": [
      "\u001b[1;31m---------------------------------------------------------------------------\u001b[0m",
      "\u001b[1;31mModuleNotFoundError\u001b[0m                       Traceback (most recent call last)",
      "Cell \u001b[1;32mIn[26], line 13\u001b[0m\n\u001b[0;32m     11\u001b[0m \u001b[38;5;28;01mfrom\u001b[39;00m \u001b[38;5;21;01msklearn\u001b[39;00m\u001b[38;5;21;01m.\u001b[39;00m\u001b[38;5;21;01mdecomposition\u001b[39;00m \u001b[38;5;28;01mimport\u001b[39;00m PCA\n\u001b[0;32m     12\u001b[0m \u001b[38;5;28;01mfrom\u001b[39;00m \u001b[38;5;21;01msklearn\u001b[39;00m\u001b[38;5;21;01m.\u001b[39;00m\u001b[38;5;21;01mcluster\u001b[39;00m \u001b[38;5;28;01mimport\u001b[39;00m KMeans\n\u001b[1;32m---> 13\u001b[0m \u001b[38;5;28;01mfrom\u001b[39;00m \u001b[38;5;21;01myellowbrick\u001b[39;00m\u001b[38;5;21;01m.\u001b[39;00m\u001b[38;5;21;01mcluster\u001b[39;00m \u001b[38;5;28;01mimport\u001b[39;00m KElbowVisualizer\n",
      "\u001b[1;31mModuleNotFoundError\u001b[0m: No module named 'yellowbrick'"
     ]
    }
   ],
   "source": [
    "import numpy as np\n",
    "import pandas as pd\n",
    "import matplotlib.pyplot as plt\n",
    "import glob\n",
    "import seaborn as sns\n",
    "import warnings\n",
    "warnings.filterwarnings('ignore')\n",
    "from sklearn.preprocessing import OneHotEncoder\n",
    "from sklearn.preprocessing import LabelEncoder\n",
    "from sklearn.preprocessing import StandardScaler\n",
    "from sklearn.decomposition import PCA\n",
    "from sklearn.cluster import KMeans\n",
    "from yellowbrick.cluster import KElbowVisualizer"
   ]
  },
  {
   "cell_type": "code",
   "execution_count": 27,
   "id": "da173faf",
   "metadata": {},
   "outputs": [],
   "source": [
    "data = pd.read_csv('Telco_customer_churn_adapted_v2_cleaned.csv')"
   ]
  },
  {
   "cell_type": "code",
   "execution_count": 28,
   "id": "ac802dbe",
   "metadata": {},
   "outputs": [
    {
     "data": {
      "text/html": [
       "<div>\n",
       "<style scoped>\n",
       "    .dataframe tbody tr th:only-of-type {\n",
       "        vertical-align: middle;\n",
       "    }\n",
       "\n",
       "    .dataframe tbody tr th {\n",
       "        vertical-align: top;\n",
       "    }\n",
       "\n",
       "    .dataframe thead th {\n",
       "        text-align: right;\n",
       "    }\n",
       "</style>\n",
       "<table border=\"1\" class=\"dataframe\">\n",
       "  <thead>\n",
       "    <tr style=\"text-align: right;\">\n",
       "      <th></th>\n",
       "      <th>Tenure Months</th>\n",
       "      <th>Location</th>\n",
       "      <th>Device Class</th>\n",
       "      <th>Games Product</th>\n",
       "      <th>Music Product</th>\n",
       "      <th>Education Product</th>\n",
       "      <th>Call Center</th>\n",
       "      <th>Video Product</th>\n",
       "      <th>Use MyApp</th>\n",
       "      <th>Payment Method</th>\n",
       "      <th>Monthly Purchase (Thou. IDR)</th>\n",
       "      <th>Churn Label</th>\n",
       "      <th>Longitude</th>\n",
       "      <th>Latitude</th>\n",
       "      <th>CLTV (Predicted Thou. IDR)</th>\n",
       "    </tr>\n",
       "  </thead>\n",
       "  <tbody>\n",
       "    <tr>\n",
       "      <th>0</th>\n",
       "      <td>2</td>\n",
       "      <td>Jakarta</td>\n",
       "      <td>Mid End</td>\n",
       "      <td>Yes</td>\n",
       "      <td>Yes</td>\n",
       "      <td>No</td>\n",
       "      <td>No</td>\n",
       "      <td>No</td>\n",
       "      <td>No</td>\n",
       "      <td>Digital Wallet</td>\n",
       "      <td>70.005</td>\n",
       "      <td>Yes</td>\n",
       "      <td>106.816666</td>\n",
       "      <td>-6.2</td>\n",
       "      <td>4210.7</td>\n",
       "    </tr>\n",
       "    <tr>\n",
       "      <th>1</th>\n",
       "      <td>2</td>\n",
       "      <td>Jakarta</td>\n",
       "      <td>High End</td>\n",
       "      <td>No</td>\n",
       "      <td>No</td>\n",
       "      <td>No</td>\n",
       "      <td>No</td>\n",
       "      <td>No</td>\n",
       "      <td>No</td>\n",
       "      <td>Pulsa</td>\n",
       "      <td>91.910</td>\n",
       "      <td>Yes</td>\n",
       "      <td>106.816666</td>\n",
       "      <td>-6.2</td>\n",
       "      <td>3511.3</td>\n",
       "    </tr>\n",
       "    <tr>\n",
       "      <th>2</th>\n",
       "      <td>8</td>\n",
       "      <td>Jakarta</td>\n",
       "      <td>High End</td>\n",
       "      <td>No</td>\n",
       "      <td>No</td>\n",
       "      <td>Yes</td>\n",
       "      <td>No</td>\n",
       "      <td>Yes</td>\n",
       "      <td>Yes</td>\n",
       "      <td>Pulsa</td>\n",
       "      <td>129.545</td>\n",
       "      <td>Yes</td>\n",
       "      <td>106.816666</td>\n",
       "      <td>-6.2</td>\n",
       "      <td>6983.6</td>\n",
       "    </tr>\n",
       "    <tr>\n",
       "      <th>3</th>\n",
       "      <td>28</td>\n",
       "      <td>Jakarta</td>\n",
       "      <td>High End</td>\n",
       "      <td>No</td>\n",
       "      <td>No</td>\n",
       "      <td>Yes</td>\n",
       "      <td>Yes</td>\n",
       "      <td>Yes</td>\n",
       "      <td>Yes</td>\n",
       "      <td>Pulsa</td>\n",
       "      <td>136.240</td>\n",
       "      <td>Yes</td>\n",
       "      <td>106.816666</td>\n",
       "      <td>-6.2</td>\n",
       "      <td>6503.9</td>\n",
       "    </tr>\n",
       "    <tr>\n",
       "      <th>4</th>\n",
       "      <td>49</td>\n",
       "      <td>Jakarta</td>\n",
       "      <td>High End</td>\n",
       "      <td>No</td>\n",
       "      <td>Yes</td>\n",
       "      <td>Yes</td>\n",
       "      <td>No</td>\n",
       "      <td>Yes</td>\n",
       "      <td>Yes</td>\n",
       "      <td>Debit</td>\n",
       "      <td>134.810</td>\n",
       "      <td>Yes</td>\n",
       "      <td>106.816666</td>\n",
       "      <td>-6.2</td>\n",
       "      <td>6942.0</td>\n",
       "    </tr>\n",
       "  </tbody>\n",
       "</table>\n",
       "</div>"
      ],
      "text/plain": [
       "   Tenure Months Location Device Class Games Product Music Product  \\\n",
       "0              2  Jakarta      Mid End           Yes           Yes   \n",
       "1              2  Jakarta     High End            No            No   \n",
       "2              8  Jakarta     High End            No            No   \n",
       "3             28  Jakarta     High End            No            No   \n",
       "4             49  Jakarta     High End            No           Yes   \n",
       "\n",
       "  Education Product Call Center Video Product Use MyApp  Payment Method  \\\n",
       "0                No          No            No        No  Digital Wallet   \n",
       "1                No          No            No        No           Pulsa   \n",
       "2               Yes          No           Yes       Yes           Pulsa   \n",
       "3               Yes         Yes           Yes       Yes           Pulsa   \n",
       "4               Yes          No           Yes       Yes           Debit   \n",
       "\n",
       "   Monthly Purchase (Thou. IDR) Churn Label   Longitude  Latitude  \\\n",
       "0                        70.005         Yes  106.816666      -6.2   \n",
       "1                        91.910         Yes  106.816666      -6.2   \n",
       "2                       129.545         Yes  106.816666      -6.2   \n",
       "3                       136.240         Yes  106.816666      -6.2   \n",
       "4                       134.810         Yes  106.816666      -6.2   \n",
       "\n",
       "   CLTV (Predicted Thou. IDR)  \n",
       "0                      4210.7  \n",
       "1                      3511.3  \n",
       "2                      6983.6  \n",
       "3                      6503.9  \n",
       "4                      6942.0  "
      ]
     },
     "execution_count": 28,
     "metadata": {},
     "output_type": "execute_result"
    }
   ],
   "source": [
    "data.head()"
   ]
  },
  {
   "cell_type": "code",
   "execution_count": 29,
   "id": "b6ea3431",
   "metadata": {},
   "outputs": [
    {
     "data": {
      "text/plain": [
       "Tenure Months                     int64\n",
       "Location                         object\n",
       "Device Class                     object\n",
       "Games Product                    object\n",
       "Music Product                    object\n",
       "Education Product                object\n",
       "Call Center                      object\n",
       "Video Product                    object\n",
       "Use MyApp                        object\n",
       "Payment Method                   object\n",
       "Monthly Purchase (Thou. IDR)    float64\n",
       "Churn Label                      object\n",
       "Longitude                       float64\n",
       "Latitude                        float64\n",
       "CLTV (Predicted Thou. IDR)      float64\n",
       "dtype: object"
      ]
     },
     "execution_count": 29,
     "metadata": {},
     "output_type": "execute_result"
    }
   ],
   "source": [
    "data.dtypes"
   ]
  },
  {
   "cell_type": "code",
   "execution_count": 30,
   "id": "bdaa20f4",
   "metadata": {},
   "outputs": [],
   "source": [
    "data = data.apply(LabelEncoder().fit_transform)"
   ]
  },
  {
   "cell_type": "code",
   "execution_count": 31,
   "id": "e5941e1a",
   "metadata": {
    "scrolled": true
   },
   "outputs": [
    {
     "data": {
      "text/html": [
       "<div>\n",
       "<style scoped>\n",
       "    .dataframe tbody tr th:only-of-type {\n",
       "        vertical-align: middle;\n",
       "    }\n",
       "\n",
       "    .dataframe tbody tr th {\n",
       "        vertical-align: top;\n",
       "    }\n",
       "\n",
       "    .dataframe thead th {\n",
       "        text-align: right;\n",
       "    }\n",
       "</style>\n",
       "<table border=\"1\" class=\"dataframe\">\n",
       "  <thead>\n",
       "    <tr style=\"text-align: right;\">\n",
       "      <th></th>\n",
       "      <th>Tenure Months</th>\n",
       "      <th>Location</th>\n",
       "      <th>Device Class</th>\n",
       "      <th>Games Product</th>\n",
       "      <th>Music Product</th>\n",
       "      <th>Education Product</th>\n",
       "      <th>Call Center</th>\n",
       "      <th>Video Product</th>\n",
       "      <th>Use MyApp</th>\n",
       "      <th>Payment Method</th>\n",
       "      <th>Monthly Purchase (Thou. IDR)</th>\n",
       "      <th>Churn Label</th>\n",
       "      <th>Longitude</th>\n",
       "      <th>Latitude</th>\n",
       "      <th>CLTV (Predicted Thou. IDR)</th>\n",
       "    </tr>\n",
       "  </thead>\n",
       "  <tbody>\n",
       "    <tr>\n",
       "      <th>0</th>\n",
       "      <td>2</td>\n",
       "      <td>1</td>\n",
       "      <td>2</td>\n",
       "      <td>2</td>\n",
       "      <td>2</td>\n",
       "      <td>0</td>\n",
       "      <td>0</td>\n",
       "      <td>0</td>\n",
       "      <td>0</td>\n",
       "      <td>2</td>\n",
       "      <td>436</td>\n",
       "      <td>1</td>\n",
       "      <td>0</td>\n",
       "      <td>1</td>\n",
       "      <td>867</td>\n",
       "    </tr>\n",
       "    <tr>\n",
       "      <th>1</th>\n",
       "      <td>2</td>\n",
       "      <td>1</td>\n",
       "      <td>0</td>\n",
       "      <td>0</td>\n",
       "      <td>0</td>\n",
       "      <td>0</td>\n",
       "      <td>0</td>\n",
       "      <td>0</td>\n",
       "      <td>0</td>\n",
       "      <td>3</td>\n",
       "      <td>729</td>\n",
       "      <td>1</td>\n",
       "      <td>0</td>\n",
       "      <td>1</td>\n",
       "      <td>486</td>\n",
       "    </tr>\n",
       "    <tr>\n",
       "      <th>2</th>\n",
       "      <td>8</td>\n",
       "      <td>1</td>\n",
       "      <td>0</td>\n",
       "      <td>0</td>\n",
       "      <td>0</td>\n",
       "      <td>2</td>\n",
       "      <td>0</td>\n",
       "      <td>2</td>\n",
       "      <td>2</td>\n",
       "      <td>3</td>\n",
       "      <td>1274</td>\n",
       "      <td>1</td>\n",
       "      <td>0</td>\n",
       "      <td>1</td>\n",
       "      <td>2587</td>\n",
       "    </tr>\n",
       "    <tr>\n",
       "      <th>3</th>\n",
       "      <td>28</td>\n",
       "      <td>1</td>\n",
       "      <td>0</td>\n",
       "      <td>0</td>\n",
       "      <td>0</td>\n",
       "      <td>2</td>\n",
       "      <td>1</td>\n",
       "      <td>2</td>\n",
       "      <td>2</td>\n",
       "      <td>3</td>\n",
       "      <td>1371</td>\n",
       "      <td>1</td>\n",
       "      <td>0</td>\n",
       "      <td>1</td>\n",
       "      <td>2260</td>\n",
       "    </tr>\n",
       "    <tr>\n",
       "      <th>4</th>\n",
       "      <td>49</td>\n",
       "      <td>1</td>\n",
       "      <td>0</td>\n",
       "      <td>0</td>\n",
       "      <td>2</td>\n",
       "      <td>2</td>\n",
       "      <td>0</td>\n",
       "      <td>2</td>\n",
       "      <td>2</td>\n",
       "      <td>1</td>\n",
       "      <td>1349</td>\n",
       "      <td>1</td>\n",
       "      <td>0</td>\n",
       "      <td>1</td>\n",
       "      <td>2556</td>\n",
       "    </tr>\n",
       "  </tbody>\n",
       "</table>\n",
       "</div>"
      ],
      "text/plain": [
       "   Tenure Months  Location  Device Class  Games Product  Music Product  \\\n",
       "0              2         1             2              2              2   \n",
       "1              2         1             0              0              0   \n",
       "2              8         1             0              0              0   \n",
       "3             28         1             0              0              0   \n",
       "4             49         1             0              0              2   \n",
       "\n",
       "   Education Product  Call Center  Video Product  Use MyApp  Payment Method  \\\n",
       "0                  0            0              0          0               2   \n",
       "1                  0            0              0          0               3   \n",
       "2                  2            0              2          2               3   \n",
       "3                  2            1              2          2               3   \n",
       "4                  2            0              2          2               1   \n",
       "\n",
       "   Monthly Purchase (Thou. IDR)  Churn Label  Longitude  Latitude  \\\n",
       "0                           436            1          0         1   \n",
       "1                           729            1          0         1   \n",
       "2                          1274            1          0         1   \n",
       "3                          1371            1          0         1   \n",
       "4                          1349            1          0         1   \n",
       "\n",
       "   CLTV (Predicted Thou. IDR)  \n",
       "0                         867  \n",
       "1                         486  \n",
       "2                        2587  \n",
       "3                        2260  \n",
       "4                        2556  "
      ]
     },
     "execution_count": 31,
     "metadata": {},
     "output_type": "execute_result"
    }
   ],
   "source": [
    "data.head()"
   ]
  },
  {
   "cell_type": "code",
   "execution_count": 32,
   "id": "d5c9312a",
   "metadata": {},
   "outputs": [],
   "source": [
    "data = data.drop(columns=[\"Location\",\"Payment Method\",\"Longitude\",\"Latitude\"])"
   ]
  },
  {
   "cell_type": "code",
   "execution_count": 33,
   "id": "df228f91",
   "metadata": {},
   "outputs": [],
   "source": [
    "scaler = StandardScaler()\n",
    "scaler.fit(data)\n",
    "scaled_data = pd.DataFrame(scaler.transform(data), columns = data.columns)"
   ]
  },
  {
   "cell_type": "code",
   "execution_count": 35,
   "id": "5a44f753",
   "metadata": {},
   "outputs": [],
   "source": [
    "copy= scaled_data.copy()"
   ]
  },
  {
   "cell_type": "code",
   "execution_count": 46,
   "id": "fa10995e",
   "metadata": {},
   "outputs": [],
   "source": [
    "copy= copy.iloc[:,:].values"
   ]
  },
  {
   "cell_type": "code",
   "execution_count": 48,
   "id": "02053f9f",
   "metadata": {},
   "outputs": [
    {
     "data": {
      "text/plain": [
       "array([[-1.23672422,  1.24547707,  1.40732123, ..., -0.51731743,\n",
       "         1.66382851, -0.99005467],\n",
       "       [-1.23672422, -1.02762347, -0.91883775, ...,  0.0950415 ,\n",
       "         1.66382851, -1.39507856],\n",
       "       [-0.99240204, -1.02762347, -0.91883775, ...,  1.23407091,\n",
       "         1.66382851,  0.83839963],\n",
       "       ...,\n",
       "       [ 1.61370124, -1.02762347, -0.91883775, ...,  1.37200841,\n",
       "        -0.60102348,  1.01805589],\n",
       "       [-0.87024095,  1.24547707,  1.40732123, ..., -1.14221613,\n",
       "        -0.60102348, -1.32704305],\n",
       "       [ 1.36937906, -1.02762347,  1.40732123, ...,  1.4723266 ,\n",
       "        -0.60102348,  0.58114036]])"
      ]
     },
     "execution_count": 48,
     "metadata": {},
     "output_type": "execute_result"
    }
   ],
   "source": [
    "copy"
   ]
  },
  {
   "cell_type": "code",
   "execution_count": 37,
   "id": "8c42018c",
   "metadata": {},
   "outputs": [],
   "source": [
    "pca = PCA(n_components=4)\n",
    "pca.fit(scaled_data)\n",
    "pca_data = pd.DataFrame(pca.transform(scaled_data), columns=([\"col1\",\"col2\",\"col3\",\"col4\"]))"
   ]
  },
  {
   "cell_type": "code",
   "execution_count": 38,
   "id": "5853ca21",
   "metadata": {},
   "outputs": [
    {
     "data": {
      "text/html": [
       "<div>\n",
       "<style scoped>\n",
       "    .dataframe tbody tr th:only-of-type {\n",
       "        vertical-align: middle;\n",
       "    }\n",
       "\n",
       "    .dataframe tbody tr th {\n",
       "        vertical-align: top;\n",
       "    }\n",
       "\n",
       "    .dataframe thead th {\n",
       "        text-align: right;\n",
       "    }\n",
       "</style>\n",
       "<table border=\"1\" class=\"dataframe\">\n",
       "  <thead>\n",
       "    <tr style=\"text-align: right;\">\n",
       "      <th></th>\n",
       "      <th>col1</th>\n",
       "      <th>col2</th>\n",
       "      <th>col3</th>\n",
       "      <th>col4</th>\n",
       "    </tr>\n",
       "  </thead>\n",
       "  <tbody>\n",
       "    <tr>\n",
       "      <th>count</th>\n",
       "      <td>7.043000e+03</td>\n",
       "      <td>7043.000000</td>\n",
       "      <td>7.043000e+03</td>\n",
       "      <td>7.043000e+03</td>\n",
       "    </tr>\n",
       "    <tr>\n",
       "      <th>mean</th>\n",
       "      <td>3.228364e-17</td>\n",
       "      <td>0.000000</td>\n",
       "      <td>-1.916841e-17</td>\n",
       "      <td>1.614182e-17</td>\n",
       "    </tr>\n",
       "    <tr>\n",
       "      <th>std</th>\n",
       "      <td>1.697956e+00</td>\n",
       "      <td>1.414544</td>\n",
       "      <td>9.970609e-01</td>\n",
       "      <td>9.668430e-01</td>\n",
       "    </tr>\n",
       "    <tr>\n",
       "      <th>min</th>\n",
       "      <td>-3.686096e+00</td>\n",
       "      <td>-3.068269</td>\n",
       "      <td>-3.134581e+00</td>\n",
       "      <td>-1.977229e+00</td>\n",
       "    </tr>\n",
       "    <tr>\n",
       "      <th>25%</th>\n",
       "      <td>-1.187237e+00</td>\n",
       "      <td>-1.108699</td>\n",
       "      <td>-6.925460e-01</td>\n",
       "      <td>-1.020937e+00</td>\n",
       "    </tr>\n",
       "    <tr>\n",
       "      <th>50%</th>\n",
       "      <td>-2.064050e-01</td>\n",
       "      <td>-0.292154</td>\n",
       "      <td>-2.014681e-02</td>\n",
       "      <td>1.495507e-02</td>\n",
       "    </tr>\n",
       "    <tr>\n",
       "      <th>75%</th>\n",
       "      <td>1.114600e+00</td>\n",
       "      <td>1.215349</td>\n",
       "      <td>6.911996e-01</td>\n",
       "      <td>7.037969e-01</td>\n",
       "    </tr>\n",
       "    <tr>\n",
       "      <th>max</th>\n",
       "      <td>4.322778e+00</td>\n",
       "      <td>3.232550</td>\n",
       "      <td>3.509510e+00</td>\n",
       "      <td>2.886841e+00</td>\n",
       "    </tr>\n",
       "  </tbody>\n",
       "</table>\n",
       "</div>"
      ],
      "text/plain": [
       "               col1         col2          col3          col4\n",
       "count  7.043000e+03  7043.000000  7.043000e+03  7.043000e+03\n",
       "mean   3.228364e-17     0.000000 -1.916841e-17  1.614182e-17\n",
       "std    1.697956e+00     1.414544  9.970609e-01  9.668430e-01\n",
       "min   -3.686096e+00    -3.068269 -3.134581e+00 -1.977229e+00\n",
       "25%   -1.187237e+00    -1.108699 -6.925460e-01 -1.020937e+00\n",
       "50%   -2.064050e-01    -0.292154 -2.014681e-02  1.495507e-02\n",
       "75%    1.114600e+00     1.215349  6.911996e-01  7.037969e-01\n",
       "max    4.322778e+00     3.232550  3.509510e+00  2.886841e+00"
      ]
     },
     "execution_count": 38,
     "metadata": {},
     "output_type": "execute_result"
    }
   ],
   "source": [
    "pca_data.describe()"
   ]
  },
  {
   "cell_type": "code",
   "execution_count": 39,
   "id": "670ebd6a",
   "metadata": {},
   "outputs": [],
   "source": [
    "pca_data = pca_data.iloc[:,:].values"
   ]
  },
  {
   "cell_type": "code",
   "execution_count": 40,
   "id": "4b7fee6b",
   "metadata": {},
   "outputs": [
    {
     "data": {
      "image/png": "[encoded data removed]",
      "text/plain": [
       "<Figure size 640x480 with 1 Axes>"
      ]
     },
     "metadata": {},
     "output_type": "display_data"
    }
   ],
   "source": [
    "wcss = []\n",
    "for i in range(1,11):\n",
    "    kmeans = KMeans(n_clusters = i, init = 'k-means++', random_state = 42)\n",
    "    kmeans.fit(pca_data)\n",
    "    wcss.append(kmeans.inertia_)\n",
    "plt.plot(range(1,11), wcss)\n",
    "plt.title('Elbow')\n",
    "plt.xlabel('N of clusters')\n",
    "plt.ylabel('WCSS')\n",
    "plt.show()"
   ]
  },
  {
   "cell_type": "code",
   "execution_count": 41,
   "id": "b84f6293",
   "metadata": {},
   "outputs": [],
   "source": [
    "kmeans = KMeans(n_clusters=3, init = 'k-means++', random_state=42)\n",
    "y_kmeans = kmeans.fit_predict(pca_data)"
   ]
  },
  {
   "cell_type": "code",
   "execution_count": 42,
   "id": "c7c74e7a",
   "metadata": {},
   "outputs": [
    {
     "data": {
      "text/plain": [
       "array([2, 0, 0, ..., 1, 2, 1])"
      ]
     },
     "execution_count": 42,
     "metadata": {},
     "output_type": "execute_result"
    }
   ],
   "source": [
    "y_kmeans"
   ]
  },
  {
   "cell_type": "code",
   "execution_count": 50,
   "id": "6f9211cb",
   "metadata": {
    "scrolled": true
   },
   "outputs": [
    {
     "data": {
      "image/png": "[encoded data removed]",
      "text/plain": [
       "<Figure size 640x480 with 1 Axes>"
      ]
     },
     "metadata": {},
     "output_type": "display_data"
    }
   ],
   "source": [
    "plt.scatter(copy[y_kmeans==0, 1], copy[y_kmeans==0, 2], s = 100, c = 'red', label = 'Cluster 1')\n",
    "plt.scatter(copy[y_kmeans==1, 1], copy[y_kmeans==1, 2], s = 100, c = 'blue', label = 'Cluster 2')\n",
    "plt.scatter(copy[y_kmeans==2, 1], copy[y_kmeans==2, 2], s = 100, c = 'green', label = 'Cluster 3')\n",
    "#plt.scatter(copy[y_kmeans==3, 0], copy[y_kmeans==3, 1], s = 100, c = 'cyan', label = 'Cluster 4')\n",
    "#plt.scatter(copy[y_kmeans==4, 0], copy[y_kmeans==4, 1], s = 100, c = 'magenta', label = 'Cluster 5')\n",
    "plt.scatter(kmeans.cluster_centers_[:, 0], kmeans.cluster_centers_[:, 1], s = 300, c = 'yellow', label = 'Centroids')\n",
    "plt.show()"
   ]
  },
  {
   "cell_type": "code",
   "execution_count": null,
   "id": "24ed4b8d",
   "metadata": {},
   "outputs": [],
   "source": []
  }
 ],
 "metadata": {
  "kernelspec": {
   "display_name": "Python 3 (ipykernel)",
   "language": "python",
   "name": "python3"
  },
  "language_info": {
   "codemirror_mode": {
    "name": "ipython",
    "version": 3
   },
   "file_extension": ".py",
   "mimetype": "text/x-python",
   "name": "python",
   "nbconvert_exporter": "python",
   "pygments_lexer": "ipython3",
   "version": "3.10.9"
  }
 },
 "nbformat": 4,
 "nbformat_minor": 5
}
