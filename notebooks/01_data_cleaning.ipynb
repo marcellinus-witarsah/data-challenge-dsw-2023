{
 "cells": [
  {
   "cell_type": "code",
   "execution_count": 1,
   "metadata": {},
   "outputs": [],
   "source": [
    "%reload_ext autoreload\n",
    "%autoreload 2\n",
    "\n",
    "import pandas as pd\n",
    "import matplotlib.pyplot as plt\n",
    "import seaborn as sns"
   ]
  },
  {
   "cell_type": "code",
   "execution_count": 2,
   "metadata": {},
   "outputs": [
    {
     "name": "stdout",
     "output_type": "stream",
     "text": [
      "<class 'pandas.core.frame.DataFrame'>\n",
      "RangeIndex: 7043 entries, 0 to 7042\n",
      "Data columns (total 16 columns):\n",
      " #   Column                        Non-Null Count  Dtype  \n",
      "---  ------                        --------------  -----  \n",
      " 0   Customer ID                   7043 non-null   int64  \n",
      " 1   Tenure Months                 7043 non-null   int64  \n",
      " 2   Location                      7043 non-null   object \n",
      " 3   Device Class                  7043 non-null   object \n",
      " 4   Games Product                 7043 non-null   object \n",
      " 5   Music Product                 7043 non-null   object \n",
      " 6   Education Product             7043 non-null   object \n",
      " 7   Call Center                   7043 non-null   object \n",
      " 8   Video Product                 7043 non-null   object \n",
      " 9   Use MyApp                     7043 non-null   object \n",
      " 10  Payment Method                7043 non-null   object \n",
      " 11  Monthly Purchase (Thou. IDR)  7043 non-null   float64\n",
      " 12  Churn Label                   7043 non-null   object \n",
      " 13  Longitude                     7043 non-null   float64\n",
      " 14  Latitude                      7043 non-null   float64\n",
      " 15  CLTV (Predicted Thou. IDR)    7043 non-null   float64\n",
      "dtypes: float64(4), int64(2), object(10)\n",
      "memory usage: 880.5+ KB\n"
     ]
    }
   ],
   "source": [
    "# load data\n",
    "df = pd.read_excel('../data/raw/Telco_customer_churn_adapted_v2.xlsx')\n",
    "df.info()"
   ]
  },
  {
   "cell_type": "code",
   "execution_count": 3,
   "metadata": {},
   "outputs": [
    {
     "data": {
      "text/html": [
       "<div>\n",
       "<style scoped>\n",
       "    .dataframe tbody tr th:only-of-type {\n",
       "        vertical-align: middle;\n",
       "    }\n",
       "\n",
       "    .dataframe tbody tr th {\n",
       "        vertical-align: top;\n",
       "    }\n",
       "\n",
       "    .dataframe thead th {\n",
       "        text-align: right;\n",
       "    }\n",
       "</style>\n",
       "<table border=\"1\" class=\"dataframe\">\n",
       "  <thead>\n",
       "    <tr style=\"text-align: right;\">\n",
       "      <th></th>\n",
       "      <th>Customer ID</th>\n",
       "      <th>Tenure Months</th>\n",
       "      <th>Location</th>\n",
       "      <th>Device Class</th>\n",
       "      <th>Games Product</th>\n",
       "      <th>Music Product</th>\n",
       "      <th>Education Product</th>\n",
       "      <th>Call Center</th>\n",
       "      <th>Video Product</th>\n",
       "      <th>Use MyApp</th>\n",
       "      <th>Payment Method</th>\n",
       "      <th>Monthly Purchase (Thou. IDR)</th>\n",
       "      <th>Churn Label</th>\n",
       "      <th>Longitude</th>\n",
       "      <th>Latitude</th>\n",
       "      <th>CLTV (Predicted Thou. IDR)</th>\n",
       "    </tr>\n",
       "  </thead>\n",
       "  <tbody>\n",
       "    <tr>\n",
       "      <th>0</th>\n",
       "      <td>0</td>\n",
       "      <td>2</td>\n",
       "      <td>Jakarta</td>\n",
       "      <td>Mid End</td>\n",
       "      <td>Yes</td>\n",
       "      <td>Yes</td>\n",
       "      <td>No</td>\n",
       "      <td>No</td>\n",
       "      <td>No</td>\n",
       "      <td>No</td>\n",
       "      <td>Digital Wallet</td>\n",
       "      <td>70.005</td>\n",
       "      <td>Yes</td>\n",
       "      <td>106.816666</td>\n",
       "      <td>-6.2</td>\n",
       "      <td>4210.7</td>\n",
       "    </tr>\n",
       "    <tr>\n",
       "      <th>1</th>\n",
       "      <td>1</td>\n",
       "      <td>2</td>\n",
       "      <td>Jakarta</td>\n",
       "      <td>High End</td>\n",
       "      <td>No</td>\n",
       "      <td>No</td>\n",
       "      <td>No</td>\n",
       "      <td>No</td>\n",
       "      <td>No</td>\n",
       "      <td>No</td>\n",
       "      <td>Pulsa</td>\n",
       "      <td>91.910</td>\n",
       "      <td>Yes</td>\n",
       "      <td>106.816666</td>\n",
       "      <td>-6.2</td>\n",
       "      <td>3511.3</td>\n",
       "    </tr>\n",
       "    <tr>\n",
       "      <th>2</th>\n",
       "      <td>2</td>\n",
       "      <td>8</td>\n",
       "      <td>Jakarta</td>\n",
       "      <td>High End</td>\n",
       "      <td>No</td>\n",
       "      <td>No</td>\n",
       "      <td>Yes</td>\n",
       "      <td>No</td>\n",
       "      <td>Yes</td>\n",
       "      <td>Yes</td>\n",
       "      <td>Pulsa</td>\n",
       "      <td>129.545</td>\n",
       "      <td>Yes</td>\n",
       "      <td>106.816666</td>\n",
       "      <td>-6.2</td>\n",
       "      <td>6983.6</td>\n",
       "    </tr>\n",
       "    <tr>\n",
       "      <th>3</th>\n",
       "      <td>3</td>\n",
       "      <td>28</td>\n",
       "      <td>Jakarta</td>\n",
       "      <td>High End</td>\n",
       "      <td>No</td>\n",
       "      <td>No</td>\n",
       "      <td>Yes</td>\n",
       "      <td>Yes</td>\n",
       "      <td>Yes</td>\n",
       "      <td>Yes</td>\n",
       "      <td>Pulsa</td>\n",
       "      <td>136.240</td>\n",
       "      <td>Yes</td>\n",
       "      <td>106.816666</td>\n",
       "      <td>-6.2</td>\n",
       "      <td>6503.9</td>\n",
       "    </tr>\n",
       "    <tr>\n",
       "      <th>4</th>\n",
       "      <td>4</td>\n",
       "      <td>49</td>\n",
       "      <td>Jakarta</td>\n",
       "      <td>High End</td>\n",
       "      <td>No</td>\n",
       "      <td>Yes</td>\n",
       "      <td>Yes</td>\n",
       "      <td>No</td>\n",
       "      <td>Yes</td>\n",
       "      <td>Yes</td>\n",
       "      <td>Debit</td>\n",
       "      <td>134.810</td>\n",
       "      <td>Yes</td>\n",
       "      <td>106.816666</td>\n",
       "      <td>-6.2</td>\n",
       "      <td>6942.0</td>\n",
       "    </tr>\n",
       "  </tbody>\n",
       "</table>\n",
       "</div>"
      ],
      "text/plain": [
       "   Customer ID  Tenure Months Location Device Class Games Product  \\\n",
       "0            0              2  Jakarta      Mid End           Yes   \n",
       "1            1              2  Jakarta     High End            No   \n",
       "2            2              8  Jakarta     High End            No   \n",
       "3            3             28  Jakarta     High End            No   \n",
       "4            4             49  Jakarta     High End            No   \n",
       "\n",
       "  Music Product Education Product Call Center Video Product Use MyApp  \\\n",
       "0           Yes                No          No            No        No   \n",
       "1            No                No          No            No        No   \n",
       "2            No               Yes          No           Yes       Yes   \n",
       "3            No               Yes         Yes           Yes       Yes   \n",
       "4           Yes               Yes          No           Yes       Yes   \n",
       "\n",
       "   Payment Method  Monthly Purchase (Thou. IDR) Churn Label   Longitude  \\\n",
       "0  Digital Wallet                        70.005         Yes  106.816666   \n",
       "1           Pulsa                        91.910         Yes  106.816666   \n",
       "2           Pulsa                       129.545         Yes  106.816666   \n",
       "3           Pulsa                       136.240         Yes  106.816666   \n",
       "4           Debit                       134.810         Yes  106.816666   \n",
       "\n",
       "   Latitude  CLTV (Predicted Thou. IDR)  \n",
       "0      -6.2                      4210.7  \n",
       "1      -6.2                      3511.3  \n",
       "2      -6.2                      6983.6  \n",
       "3      -6.2                      6503.9  \n",
       "4      -6.2                      6942.0  "
      ]
     },
     "execution_count": 3,
     "metadata": {},
     "output_type": "execute_result"
    }
   ],
   "source": [
    "df.head()"
   ]
  },
  {
   "cell_type": "markdown",
   "metadata": {},
   "source": [
    "# Data Cleaning"
   ]
  },
  {
   "cell_type": "code",
   "execution_count": 4,
   "metadata": {},
   "outputs": [
    {
     "data": {
      "text/plain": [
       "Customer ID                     0\n",
       "Tenure Months                   0\n",
       "Location                        0\n",
       "Device Class                    0\n",
       "Games Product                   0\n",
       "Music Product                   0\n",
       "Education Product               0\n",
       "Call Center                     0\n",
       "Video Product                   0\n",
       "Use MyApp                       0\n",
       "Payment Method                  0\n",
       "Monthly Purchase (Thou. IDR)    0\n",
       "Churn Label                     0\n",
       "Longitude                       0\n",
       "Latitude                        0\n",
       "CLTV (Predicted Thou. IDR)      0\n",
       "dtype: int64"
      ]
     },
     "execution_count": 4,
     "metadata": {},
     "output_type": "execute_result"
    }
   ],
   "source": [
    "# Check Missing Value\n",
    "df.isna().sum()"
   ]
  },
  {
   "cell_type": "markdown",
   "metadata": {},
   "source": [
    "No Missing Value"
   ]
  },
  {
   "cell_type": "code",
   "execution_count": 5,
   "metadata": {},
   "outputs": [
    {
     "name": "stdout",
     "output_type": "stream",
     "text": [
      "Customer ID has 7043 unique value/s\n",
      "Tenure Months has 73 unique value/s\n",
      "Location has 2 unique value/s\n",
      "Device Class has 3 unique value/s\n",
      "Games Product has 3 unique value/s\n",
      "Music Product has 3 unique value/s\n",
      "Education Product has 3 unique value/s\n",
      "Call Center has 2 unique value/s\n",
      "Video Product has 3 unique value/s\n",
      "Use MyApp has 3 unique value/s\n",
      "Payment Method has 4 unique value/s\n",
      "Monthly Purchase (Thou. IDR) has 1585 unique value/s\n",
      "Churn Label has 2 unique value/s\n",
      "Longitude has 2 unique value/s\n",
      "Latitude has 2 unique value/s\n",
      "CLTV (Predicted Thou. IDR) has 3438 unique value/s\n"
     ]
    }
   ],
   "source": [
    "# Drop Unimportant Information\n",
    "for c in df.columns:\n",
    "    print(f\"{c} has {len(df[c].unique())} unique value/s\")"
   ]
  },
  {
   "cell_type": "markdown",
   "metadata": {},
   "source": [
    "1. `Customer ID` doesn't contribute useful information to project.\n",
    "2. `Location` and `Longitude`, `Latitude` have the same meaning which refers to location. But we will keep it so that we will be flexible in using either `Location` or `Longitude`, `Latitude`."
   ]
  },
  {
   "cell_type": "code",
   "execution_count": 6,
   "metadata": {},
   "outputs": [],
   "source": [
    "df = df.drop(columns=['Customer ID'])"
   ]
  },
  {
   "cell_type": "code",
   "execution_count": 8,
   "metadata": {},
   "outputs": [
    {
     "data": {
      "text/html": [
       "<div>\n",
       "<style scoped>\n",
       "    .dataframe tbody tr th:only-of-type {\n",
       "        vertical-align: middle;\n",
       "    }\n",
       "\n",
       "    .dataframe tbody tr th {\n",
       "        vertical-align: top;\n",
       "    }\n",
       "\n",
       "    .dataframe thead th {\n",
       "        text-align: right;\n",
       "    }\n",
       "</style>\n",
       "<table border=\"1\" class=\"dataframe\">\n",
       "  <thead>\n",
       "    <tr style=\"text-align: right;\">\n",
       "      <th></th>\n",
       "      <th>Tenure Months</th>\n",
       "      <th>Location</th>\n",
       "      <th>Device Class</th>\n",
       "      <th>Games Product</th>\n",
       "      <th>Music Product</th>\n",
       "      <th>Education Product</th>\n",
       "      <th>Call Center</th>\n",
       "      <th>Video Product</th>\n",
       "      <th>Use MyApp</th>\n",
       "      <th>Payment Method</th>\n",
       "      <th>Monthly Purchase (Thou. IDR)</th>\n",
       "      <th>Churn Label</th>\n",
       "      <th>Longitude</th>\n",
       "      <th>Latitude</th>\n",
       "      <th>CLTV (Predicted Thou. IDR)</th>\n",
       "    </tr>\n",
       "  </thead>\n",
       "  <tbody>\n",
       "  </tbody>\n",
       "</table>\n",
       "</div>"
      ],
      "text/plain": [
       "Empty DataFrame\n",
       "Columns: [Tenure Months, Location, Device Class, Games Product, Music Product, Education Product, Call Center, Video Product, Use MyApp, Payment Method, Monthly Purchase (Thou. IDR), Churn Label, Longitude, Latitude, CLTV (Predicted Thou. IDR)]\n",
       "Index: []"
      ]
     },
     "execution_count": 8,
     "metadata": {},
     "output_type": "execute_result"
    }
   ],
   "source": [
    "# Check Duplicate Values\n",
    "df[df.duplicated()]"
   ]
  },
  {
   "cell_type": "markdown",
   "metadata": {},
   "source": [
    "No Duplicate Values"
   ]
  },
  {
   "cell_type": "code",
   "execution_count": 10,
   "metadata": {},
   "outputs": [
    {
     "name": "stdout",
     "output_type": "stream",
     "text": [
      "Tenure Months has [ 2  8 28 49 10  1 47 17  5 34 11 15 18  9  7 12 25 68 55 37  3 27 20  4\n",
      " 58 53 13  6 19 59 16 52 24 32 38 54 43 63 21 69 22 61 60 48 40 23 39 35\n",
      " 56 65 33 30 45 46 62 70 50 44 71 26 14 41 66 64 29 42 67 51 31 57 36 72\n",
      "  0] unique value/s\n",
      "Location has ['Jakarta' 'Bandung'] unique value/s\n",
      "Device Class has ['Mid End' 'High End' 'Low End'] unique value/s\n",
      "Games Product has ['Yes' 'No' 'No internet service'] unique value/s\n",
      "Music Product has ['Yes' 'No' 'No internet service'] unique value/s\n",
      "Education Product has ['No' 'Yes' 'No internet service'] unique value/s\n",
      "Call Center has ['No' 'Yes'] unique value/s\n",
      "Video Product has ['No' 'Yes' 'No internet service'] unique value/s\n",
      "Use MyApp has ['No' 'Yes' 'No internet service'] unique value/s\n",
      "Payment Method has ['Digital Wallet' 'Pulsa' 'Debit' 'Credit'] unique value/s\n",
      "Monthly Purchase (Thou. IDR) has [ 70.005  91.91  129.545 ... 140.855  82.03  102.31 ] unique value/s\n",
      "Churn Label has ['Yes' 'No'] unique value/s\n",
      "Longitude has [106.816666 107.60981 ] unique value/s\n",
      "Latitude has [-6.2      -6.914744] unique value/s\n",
      "CLTV (Predicted Thou. IDR) has [4210.7 3511.3 6983.6 ... 3601.  6038.5 7218.9] unique value/s\n"
     ]
    }
   ],
   "source": [
    "# Drop Unimportant Information\n",
    "for c in df.columns:\n",
    "    print(f\"{c} has {df[c].unique()} unique value/s\")"
   ]
  },
  {
   "cell_type": "markdown",
   "metadata": {},
   "source": [
    "All values have the same format and consistent"
   ]
  },
  {
   "cell_type": "code",
   "execution_count": 11,
   "metadata": {},
   "outputs": [],
   "source": [
    "df.to_csv(\"../data/processed/Telco_customer_churn_adapted_v2_cleaned.csv\", index=False)"
   ]
  }
 ],
 "metadata": {
  "kernelspec": {
   "display_name": "ml-tools",
   "language": "python",
   "name": "python3"
  },
  "language_info": {
   "codemirror_mode": {
    "name": "ipython",
    "version": 3
   },
   "file_extension": ".py",
   "mimetype": "text/x-python",
   "name": "python",
   "nbconvert_exporter": "python",
   "pygments_lexer": "ipython3",
   "version": "3.11.5"
  }
 },
 "nbformat": 4,
 "nbformat_minor": 2
}
