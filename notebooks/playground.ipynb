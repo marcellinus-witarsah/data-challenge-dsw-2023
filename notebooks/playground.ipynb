{
 "cells": [
  {
   "cell_type": "code",
   "execution_count": 17,
   "metadata": {},
   "outputs": [],
   "source": [
    "import pandas as pd\n",
    "import numpy as np\n",
    "import re\n"
   ]
  },
  {
   "cell_type": "code",
   "execution_count": 2,
   "metadata": {},
   "outputs": [
    {
     "name": "stdout",
     "output_type": "stream",
     "text": [
      "OLLEH\n"
     ]
    }
   ],
   "source": [
    "print('HELLO'[::-1])"
   ]
  },
  {
   "cell_type": "code",
   "execution_count": 18,
   "metadata": {},
   "outputs": [
    {
     "name": "stdout",
     "output_type": "stream",
     "text": [
      "['software', 'engineering', 'is', 'a', 'disciplined', 'approach', 'to', 'designing,', 'developing,', 'testing,', 'and', 'maintaining', 'software', 'systems.the', 'software', 'development', 'life', 'cycle', '(sdlc)', 'is', 'a', 'fundamental', 'concept', 'in', 'software', 'engineering,', 'outlining', 'the', 'stages', 'from', 'project', 'initiation', 'to', 'deployment.']\n"
     ]
    }
   ],
   "source": [
    "import re\n",
    "example_texts = [\n",
    "    \"Software engineering is a disciplined approach to designing, developing, testing, and maintaining software systems.\"\n",
    "    \"The software development life cycle (SDLC) is a fundamental concept in software engineering, outlining the stages from project initiation to deployment.\",\n",
    "    \"Object-oriented programming (OOP) is a key paradigm in software engineering, emphasizing the organization of code into reusable objects.\",\n",
    "    \"Agile methodologies, such as Scrum and Kanban, have gained popularity in software engineering for their iterative and collaborative development processes.\",\n",
    "    \"Version control systems, like Git, are crucial tools in software engineering, enabling teams to manage changes and collaborate efficiently.\"\n",
    "]\n",
    "\n",
    "\n",
    "\n",
    "for t in example_texts:\n",
    "    # convert to lowercase\n",
    "    t = t.lower()\n",
    "    # remove punctuations\n",
    "    t = t.split(\" \")\n",
    "    \n",
    "    print(t)\n",
    "    break"
   ]
  },
  {
   "cell_type": "code",
   "execution_count": 20,
   "metadata": {},
   "outputs": [
    {
     "ename": "ModuleNotFoundError",
     "evalue": "No module named 'nltk'",
     "output_type": "error",
     "traceback": [
      "\u001b[1;31m---------------------------------------------------------------------------\u001b[0m",
      "\u001b[1;31mModuleNotFoundError\u001b[0m                       Traceback (most recent call last)",
      "\u001b[1;32mc:\\Users\\USER\\Documents\\GitHub\\data-challenge-dsw-2023\\notebooks\\playground.ipynb Cell 4\u001b[0m line \u001b[0;36m2\n\u001b[0;32m      <a href='vscode-notebook-cell:/c%3A/Users/USER/Documents/GitHub/data-challenge-dsw-2023/notebooks/playground.ipynb#W3sZmlsZQ%3D%3D?line=0'>1</a>\u001b[0m \u001b[39mimport\u001b[39;00m \u001b[39mstring\u001b[39;00m\n\u001b[1;32m----> <a href='vscode-notebook-cell:/c%3A/Users/USER/Documents/GitHub/data-challenge-dsw-2023/notebooks/playground.ipynb#W3sZmlsZQ%3D%3D?line=1'>2</a>\u001b[0m \u001b[39mfrom\u001b[39;00m \u001b[39mnltk\u001b[39;00m\u001b[39m.\u001b[39;00m\u001b[39mtokenize\u001b[39;00m \u001b[39mimport\u001b[39;00m word_tokenize\n\u001b[0;32m      <a href='vscode-notebook-cell:/c%3A/Users/USER/Documents/GitHub/data-challenge-dsw-2023/notebooks/playground.ipynb#W3sZmlsZQ%3D%3D?line=3'>4</a>\u001b[0m \u001b[39mdef\u001b[39;00m \u001b[39mtext_preprocessing\u001b[39m(text):\n\u001b[0;32m      <a href='vscode-notebook-cell:/c%3A/Users/USER/Documents/GitHub/data-challenge-dsw-2023/notebooks/playground.ipynb#W3sZmlsZQ%3D%3D?line=4'>5</a>\u001b[0m     \u001b[39m# Convert to lowercase\u001b[39;00m\n\u001b[0;32m      <a href='vscode-notebook-cell:/c%3A/Users/USER/Documents/GitHub/data-challenge-dsw-2023/notebooks/playground.ipynb#W3sZmlsZQ%3D%3D?line=5'>6</a>\u001b[0m     text \u001b[39m=\u001b[39m text\u001b[39m.\u001b[39mlower()\n",
      "\u001b[1;31mModuleNotFoundError\u001b[0m: No module named 'nltk'"
     ]
    }
   ],
   "source": [
    "import string\n",
    "from nltk.tokenize import word_tokenize\n",
    "\n",
    "def text_preprocessing(text):\n",
    "    # Convert to lowercase\n",
    "    text = text.lower()\n",
    "\n",
    "    # Remove punctuation\n",
    "    text = text.translate(str.maketrans(\"\", \"\", string.punctuation))\n",
    "\n",
    "    # Tokenize the text into individual words\n",
    "    words = word_tokenize(text)\n",
    "\n",
    "    return words\n",
    "\n",
    "if __name__ == \"__main__\":\n",
    "    # Example usage:\n",
    "    input_text = \"Hello, World! This is an example text for text preprocessing.\"\n",
    "    preprocessed_text = text_preprocessing(input_text)\n",
    "\n",
    "    print(\"Original Text:\")\n",
    "    print(input_text)\n",
    "    print(\"\\nPreprocessed Text:\")\n",
    "    print(preprocessed_text)"
   ]
  }
 ],
 "metadata": {
  "kernelspec": {
   "display_name": "ml-tools",
   "language": "python",
   "name": "python3"
  },
  "language_info": {
   "codemirror_mode": {
    "name": "ipython",
    "version": 3
   },
   "file_extension": ".py",
   "mimetype": "text/x-python",
   "name": "python",
   "nbconvert_exporter": "python",
   "pygments_lexer": "ipython3",
   "version": "3.10.13"
  }
 },
 "nbformat": 4,
 "nbformat_minor": 2
}
